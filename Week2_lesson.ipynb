{
 "cells": [
  {
   "cell_type": "markdown",
   "id": "bf6da588",
   "metadata": {},
   "source": [
    "# **Buckle Up ! We are starting our week 2 roller coaster**\n",
    "\n",
    "In our first week we covered some theoritical concepts and completed our setup so its time we start building!"
   ]
  },
  {
   "cell_type": "markdown",
   "id": "ca6b55c5",
   "metadata": {},
   "source": [
    "## 📓**Conversational AI Concepts & Model Pipelines**"
   ]
  },
  {
   "cell_type": "markdown",
   "id": "f1b7ace2",
   "metadata": {},
   "source": [
    "🎯 By the end of this week, you will:\n",
    "\n",
    "- Understand LLMs, STT, TTS models and their roles.\n",
    "\n",
    "- Know how to connect to LLMs with APIs (Groq as example).\n",
    "\n",
    "- Use Python (requests + JSON) for API interaction.\n",
    "\n",
    "- Start building a basic chatbot with memory and preprocessing."
   ]
  },
  {
   "cell_type": "markdown",
   "id": "8e3c5144",
   "metadata": {},
   "source": [
    "---\n",
    "\n",
    "## 🌟 Large Language Models (LLMs) 🌟"
   ]
  },
  {
   "cell_type": "markdown",
   "id": "03968dc4",
   "metadata": {},
   "source": [
    "---\n",
    "\n",
    "### ❗ **Question 1**: What is an LLM?"
   ]
  },
  {
   "cell_type": "markdown",
   "id": "9dd894fc",
   "metadata": {},
   "source": [
    "👉 It’s like a super-smart text predictor that can read, understand, and generate human-like sentences.\n",
    "\n",
    "You give it some words → it guesses the next words in a way that makes sense.\n",
    "\n",
    "For example:\n",
    "\n",
    "1) You ask a question → it gives you an answer.\n",
    "\n",
    "2) You write a sentence → it can complete it.\n",
    "\n",
    "3) You give it a topic → it can write an essay, code, or even a story.\n",
    "\n",
    "So, its a type of AI trained on huge amounts of text data to generate or understand text.\n",
    "\n",
    "---"
   ]
  },
  {
   "cell_type": "markdown",
   "id": "77076ddc",
   "metadata": {},
   "source": [
    "### Types of LLMs\n",
    "\n",
    "1. Encoder-only models (e.g., BERT)\n",
    "\n",
    "    - Best for understanding text (classification, sentiment analysis, embeddings).\n",
    "\n",
    "    - ❌ Not good at generating text.\n",
    "\n",
    "2. Decoder-only models (e.g., GPT, LLaMA, Mistral)\n",
    "\n",
    "    - Best for text generation (chatbots, writing, summarization).\n",
    "\n",
    "    - What we use in chatbots.\n",
    "\n",
    "3. Encoder-decoder models (e.g., T5, BART)\n",
    "\n",
    "    - Good at transforming text (translation, summarization, Q&A)."
   ]
  },
  {
   "cell_type": "markdown",
   "id": "339099fe",
   "metadata": {},
   "source": [
    "### Must-Knows about LLMs\n",
    "\n",
    "- They don’t “think” like humans → They predict text based on training.\n",
    "\n",
    "- Garbage in → garbage out: Poor prompts = poor answers.\n",
    "\n",
    "- Token limits: Models can only “see” a certain number of words at a time.\n",
    "\n",
    "- Biases: Trained on internet text → may reflect biases/errors."
   ]
  },
  {
   "cell_type": "markdown",
   "id": "8b1b2dd4",
   "metadata": {},
   "source": [
    "### 💡 **Quick Questions**: "
   ]
  },
  {
   "cell_type": "markdown",
   "id": "7753565a",
   "metadata": {},
   "source": [
    "1. Why might a chatbot built on BERT (encoder-only) struggle to answer open-ended questions?\n",
    "\n",
    "- Answer 👉 BERT lacks a decoder, so while its good at understanding text, it isn’t designed to generate long form responses needed for open-ended questions"
   ]
  },
  {
   "cell_type": "markdown",
   "id": "a5feffca",
   "metadata": {},
   "source": [
    "---\n",
    "\n",
    "## 🌟 Speech-to-Text (STT) 🌟"
   ]
  },
  {
   "cell_type": "markdown",
   "id": "9393abf7",
   "metadata": {},
   "source": [
    "---\n",
    "\n",
    "### ❗ **Question 2**: What is STT?"
   ]
  },
  {
   "cell_type": "markdown",
   "id": "3f54ac00",
   "metadata": {},
   "source": [
    "👉 listens to your voice and turns it into written text.\n",
    "\n",
    "- Converts **audio → text**.\n",
    "- Enables voice input for conversational AI.\n",
    "- Think of it as the **ears** of the chatbot.\n",
    "\n",
    "**Popular STT Models**:\n",
    "\n",
    "1) **Whisper (OpenAI)** – strong at multilingual speech recognition.\n",
    "2) **Google Speech-to-Text API** – widely used, real-time transcription.\n",
    "3) **Vosk** – lightweight, offline speech recognition.\n",
    "\n",
    "**Common Usages**\n",
    "\n",
    "1) Voice assistants (Alexa, Siri, Google Assistant).\n",
    "2) Automated captions in meetings or lectures.\n",
    "3) Voice-enabled customer support.\n",
    "\n",
    "---"
   ]
  },
  {
   "cell_type": "markdown",
   "id": "cc99714c",
   "metadata": {},
   "source": [
    "### Must-Knows about STT\n",
    "\n",
    "- Accuracy depends on **noise, accents, clarity of speech**.\n",
    "\n",
    "- Some models need **internet connection** (API-based), others run **offline**.\n",
    "\n",
    "- Preprocessing audio (noise reduction) improves results.\n"
   ]
  },
  {
   "cell_type": "markdown",
   "id": "ec23bf9a",
   "metadata": {},
   "source": [
    "### 💡 **Quick Questions**: "
   ]
  },
  {
   "cell_type": "markdown",
   "id": "407d8a82",
   "metadata": {},
   "source": [
    "2. Why do you think meeting transcription apps like Zoom or Google Meet struggle when multiple people talk at once?\n",
    "\n",
    "- Answer 👉 Since multiple people are talking at once they struggle to separate overlapping voices, which leads to inaccurate transcriptions."
   ]
  },
  {
   "cell_type": "markdown",
   "id": "f2959a81",
   "metadata": {},
   "source": [
    "---\n",
    "\n",
    "## 🌟 Text-to-Speech (TTS) 🌟"
   ]
  },
  {
   "cell_type": "markdown",
   "id": "6650b62d",
   "metadata": {},
   "source": [
    "---\n",
    "\n",
    "### ❗ **Question 3**: What is TTS?"
   ]
  },
  {
   "cell_type": "markdown",
   "id": "1bd569ff",
   "metadata": {},
   "source": [
    "👉 takes written text and speaks it out loud in a human-like voice.\n",
    "\n",
    "- Converts **text → audio (speech)**.\n",
    "- Think of it as the **mouth** of the chatbot.\n",
    "- Makes AI “speak” naturally.\n",
    "\n",
    "**Popular TTS Models**:\n",
    "\n",
    "1) **Google TTS** – supports many languages and voices.\n",
    "2) **Amazon Polly** – lifelike voice synthesis with customization.\n",
    "3) **ElevenLabs** – cutting-edge, realistic voice cloning.\n",
    "\n",
    "**Common Usages**\n",
    "\n",
    "1) Screen readers for visually impaired users.\n",
    "2) AI chatbots with voice output.\n",
    "3) Audiobooks or podcast generation.\n",
    "\n",
    "---"
   ]
  },
  {
   "cell_type": "markdown",
   "id": "cfdb2471",
   "metadata": {},
   "source": [
    "### Must-Knows about TTS\n",
    "\n",
    "- Some voices sound robotic; others use **neural TTS** for natural tones.\n",
    "\n",
    "- Latency matters → If too slow, conversation feels unnatural.\n",
    "\n",
    "- Some TTS services allow **custom voices**."
   ]
  },
  {
   "cell_type": "markdown",
   "id": "ee49cb51",
   "metadata": {},
   "source": [
    "### 💡 **Quick Questions**: "
   ]
  },
  {
   "cell_type": "markdown",
   "id": "ee8f3eb2",
   "metadata": {},
   "source": [
    "3. If you were designing a voice-based AI tutor, what qualities would you want in its TTS voice (tone, speed, clarity, etc.)?\n",
    "\n",
    "- Answer 👉 For an AI tutor, I would want it to have a friendly tone so that it seems approachable, moderate speed as I would'nt want it to explain things too fast, and provide a detailed answer with high clarity."
   ]
  },
  {
   "cell_type": "markdown",
   "id": "8042c582",
   "metadata": {},
   "source": [
    "---\n",
    "\n",
    "## 🌟 Using APIs for LLMs with Groq 🌟"
   ]
  },
  {
   "cell_type": "code",
   "execution_count": null,
   "id": "7889d8ee",
   "metadata": {},
   "outputs": [
    {
     "name": "stdout",
     "output_type": "stream",
     "text": [
      "Conversational AI refers to the technology that enables computers or digital systems to simulate human-like conversations with humans. This is achieved through the use of natural language processing (NLP) and machine learning algorithms that allow AI systems to understand, interpret, and respond to human input in a way that feels natural and intuitive.\n",
      "\n",
      "Conversational AI can take many forms, including:\n",
      "\n",
      "1. **Chatbots**: These are AI-powered software programs that can engage in text-based conversations with humans, often used to provide customer support, answer frequently asked questions, or facilitate transactions.\n",
      "2. **Virtual assistants**: These are AI-powered digital assistants, such as Siri, Google Assistant, or Alexa, that can understand voice commands and respond with relevant information or actions.\n",
      "3. **Voice-controlled interfaces**: These are AI-powered interfaces that allow users to interact with devices using voice commands, such as smart speakers or home automation systems.\n",
      "4. **Live chat applications**: These are AI-powered chat platforms that allow humans to interact with companies or organizations in real-time, often used for customer support or sales purposes.\n",
      "\n",
      "The key characteristics of conversational AI include:\n",
      "\n",
      "1. **Natural language understanding**: The ability to comprehend human language and syntax.\n",
      "2. **Contextual understanding**: The ability to understand the context of the conversation and respond accordingly.\n",
      "3. **Sentiment analysis**: The ability to recognize and respond to emotions and tone.\n",
      "4. **Flexibility**: The ability to adapt to changing conversation flows and user inputs.\n",
      "\n",
      "Conversational AI has many applications, including:\n",
      "\n",
      "1. **Customer service**: AI-powered chatbots can provide 24/7 customer support and answer frequently asked questions.\n",
      "2. **Sales**: Conversational AI can be used to engage with customers, answer product inquiries, and facilitate transactions.\n",
      "3. **Healthcare**: Conversational AI can be used to provide patient support, answer medical questions, and facilitate health education.\n",
      "4. **Education**: Conversational AI can be used to provide personalized feedback, answer student questions, and facilitate learning.\n",
      "\n",
      "Overall, conversational AI has the potential to revolutionize the way we interact with technology and each other, making communication more natural, intuitive, and accessible.\n"
     ]
    }
   ],
   "source": [
    "from groq import Groq\n",
    "\n",
    "client = Groq(api_key=\"\")\n",
    "\n",
    "response = client.chat.completions.create(\n",
    "    model=\"llama-3.1-8b-instant\",\n",
    "    messages=[{\"role\": \"user\", \"content\": \"Hello! What is conversational AI?\"}]\n",
    ")\n",
    "\n",
    "print(response.choices[0].message.content)\n"
   ]
  },
  {
   "cell_type": "markdown",
   "id": "a56c20eb",
   "metadata": {},
   "source": [
    "---\n",
    "\n",
    "## 🌟 Assignments 🌟"
   ]
  },
  {
   "cell_type": "markdown",
   "id": "2bcc2ce6",
   "metadata": {
    "jp-MarkdownHeadingCollapsed": true
   },
   "source": [
    "### 📝 Assignment 1: LLM Understanding\n",
    "\n",
    "* Write a short note (3–4 sentences) explaining the difference between **encoder-only, decoder-only, and encoder-decoder LLMs**.\n",
    "* Give one example usage of each.\n",
    "\n",
    "Encoder-only models understand input text by capturing its context, making them ideal for tasks like text classification\n",
    "\n",
    "Decoder-only models are good at generating text by predicting the next word, useful for tasks like having a conversation.\n",
    "\n",
    "Encoder-decoder models process input through an encoder and generate output with a decoder, making them well suited for tasks like translation or summarization."
   ]
  },
  {
   "cell_type": "markdown",
   "id": "370084b8",
   "metadata": {
    "jp-MarkdownHeadingCollapsed": true
   },
   "source": [
    "### 📝 Assignment 2: STT/TTS Exploration\n",
    "\n",
    "* Find **one STT model** and **one TTS model** (other than Whisper/Google).\n",
    "* Write down:\n",
    "\n",
    "  * What it does.\n",
    "  * One possible application.\n",
    "\n",
    "STT Model: Vosk\n",
    "\n",
    "Vosk is an offline speech to text toolkit that supports multiple languages and works on various platforms. One application is transcribing audio recordings without needing an internet connection\n",
    "\n",
    "TTS Model: Coqui TTS\n",
    "\n",
    "Coqui TTS is an open source text to speech system that generates natural sounding speech from text.\n",
    "One application is creating custom AI voices for virtual assistants."
   ]
  },
  {
   "cell_type": "markdown",
   "id": "84824b65",
   "metadata": {},
   "source": [
    "### 📝 Assignment 3: Build a Chatbot with Memory\n",
    "\n",
    "* Write a Python program that:\n",
    "\n",
    "  * Takes user input in a loop.\n",
    "  * Sends it to Groq API.\n",
    "  * Stores the last 5 messages in memory.\n",
    "  * Ends when user types `\"quit\"`."
   ]
  },
  {
   "cell_type": "code",
   "execution_count": 5,
   "id": "2591b6d8-ebb4-4138-af6c-9000a59d4ec2",
   "metadata": {},
   "outputs": [
    {
     "name": "stdout",
     "output_type": "stream",
     "text": [
      "Hello, enter any message to chat with me, type 'exit' to exit.\n",
      "\n"
     ]
    },
    {
     "name": "stdin",
     "output_type": "stream",
     "text": [
      "You:  Hello\n"
     ]
    },
    {
     "name": "stdout",
     "output_type": "stream",
     "text": [
      "Chatbot: How can I assist you today?\n"
     ]
    },
    {
     "name": "stdin",
     "output_type": "stream",
     "text": [
      "You:  My name is Anas, im a final year student\n"
     ]
    },
    {
     "name": "stdout",
     "output_type": "stream",
     "text": [
      "Chatbot: Nice to meet you, Anas. Congratulations on being a final year student - it's a significant milestone in your academic journey. Which course are you studying, if you don't mind me asking?\n"
     ]
    },
    {
     "name": "stdin",
     "output_type": "stream",
     "text": [
      "You:  Artificial Intelligance\n"
     ]
    },
    {
     "name": "stdout",
     "output_type": "stream",
     "text": [
      "Chatbot: That's fascinating. Artificial Intelligence (AI) has become a very popular and rapidly evolving field. I'm sure your final year will be a challenging but rewarding experience.\n",
      "\n",
      "What specific areas of AI are you interested in or specialize in? Is it Machine Learning, Natural Language Processing, Computer Vision, or something else?\n"
     ]
    },
    {
     "name": "stdin",
     "output_type": "stream",
     "text": [
      "You:  Do you remember my name?\n"
     ]
    },
    {
     "name": "stdout",
     "output_type": "stream",
     "text": [
      "Chatbot: I remember your name is Anas, and you're a final year student studying Artificial Intelligence. I tried to learn and recall information about you from our earlier conversation.\n"
     ]
    },
    {
     "name": "stdin",
     "output_type": "stream",
     "text": [
      "You:  exit\n"
     ]
    },
    {
     "name": "stdout",
     "output_type": "stream",
     "text": [
      "Chatbot: Goodbye!\n"
     ]
    }
   ],
   "source": [
    "from groq import Groq\n",
    "\n",
    "client = Groq(api_key=\"\")\n",
    "\n",
    "memory = []\n",
    "\n",
    "print(\"Hello, enter any message to chat with me, type 'exit' to exit.\\n\")\n",
    "\n",
    "while True:\n",
    "    user_input = input(\"You: \")\n",
    "    if user_input.lower() == \"exit\":\n",
    "        print(\"Chatbot: Goodbye!\")\n",
    "        break\n",
    "\n",
    "    memory.append({\"role\": \"user\", \"content\": user_input})\n",
    "\n",
    "    if len(memory) > 10:\n",
    "        memory = memory[-10:]\n",
    "\n",
    "    response = client.chat.completions.create(\n",
    "        model=\"llama-3.1-8b-instant\",\n",
    "        messages=memory\n",
    "    )\n",
    "\n",
    "    bot_reply = response.choices[0].message.content\n",
    "    print(\"Chatbot:\", bot_reply)\n",
    "\n",
    "    memory.append({\"role\": \"assistant\", \"content\": bot_reply})\n",
    "\n",
    "    if len(memory) > 10:\n",
    "        memory = memory[-10:]\n"
   ]
  },
  {
   "cell_type": "markdown",
   "id": "1aef3132",
   "metadata": {},
   "source": [
    "### 📝 Assignment 4: Preprocessing Function\n",
    "\n",
    "* Write a function to clean user input:\n",
    "\n",
    "  * Lowercase text.\n",
    "  * Remove punctuation.\n",
    "  * Strip extra spaces.\n",
    "\n",
    "Test with: `\"  HELLo!!!  How ARE you?? \"`\n"
   ]
  },
  {
   "cell_type": "code",
   "execution_count": 10,
   "id": "51075d36-d22c-42f2-9575-7fb0456111d8",
   "metadata": {},
   "outputs": [
    {
     "name": "stdout",
     "output_type": "stream",
     "text": [
      "Cleaned: hello how are you\n"
     ]
    }
   ],
   "source": [
    "import string\n",
    "\n",
    "def preprocess_text(text):\n",
    "    text = text.lower()\n",
    "    text = text.translate(str.maketrans(\"\", \"\", string.punctuation))\n",
    "    text = \" \".join(text.split())\n",
    "    \n",
    "    return text\n",
    "\n",
    "test = \"  HELLo!!!  How ARE you?? \"\n",
    "cleaned = preprocess_text(test)\n",
    "print(\"Cleaned:\", cleaned)\n"
   ]
  },
  {
   "cell_type": "markdown",
   "id": "53027998",
   "metadata": {},
   "source": [
    "### 📝 Assignment 5: Text Preprocessing\n",
    "\n",
    "* Write a function that:\n",
    "\n",
    "    * Converts text to lowercase.\n",
    "    * Removes punctuation & numbers.\n",
    "    * Removes stopwords (`the, is, and...`).\n",
    "    * Applies stemming or lemmatization.\n",
    "    * Removes words shorter than 3 characters.\n",
    "    * Keeps only nouns, verbs, and adjectives (using POS tagging)."
   ]
  },
  {
   "cell_type": "code",
   "execution_count": 21,
   "id": "381f8207-5866-44d1-9dda-804d87af3f97",
   "metadata": {},
   "outputs": [
    {
     "name": "stdout",
     "output_type": "stream",
     "text": [
      "Original: The cat is sleeping on the mat.\n",
      "Processed: ['cat', 'sleeping', 'mat']\n"
     ]
    }
   ],
   "source": [
    "import string\n",
    "import nltk\n",
    "from nltk.corpus import stopwords\n",
    "from nltk.stem import WordNetLemmatizer\n",
    "from nltk import pos_tag, word_tokenize\n",
    "\n",
    "#nltk.download(\"punkt\")\n",
    "#nltk.download('punkt_tab')\n",
    "#nltk.download('averaged_perceptron_tagger_eng')\n",
    "#nltk.download(\"stopwords\")\n",
    "#nltk.download(\"wordnet\")\n",
    "#nltk.download(\"averaged_perceptron_tagger\")\n",
    "\n",
    "\n",
    "def preprocess_text(text):\n",
    "    text = text.lower()\n",
    "    text = \"\".join([ch for ch in text if ch not in string.punctuation and not ch.isdigit()])\n",
    "\n",
    "    tokens = word_tokenize(text)\n",
    "    \n",
    "    stop_words = set(stopwords.words(\"english\"))\n",
    "    tokens = [w for w in tokens if w not in stop_words]\n",
    "    \n",
    "    lemmatizer = WordNetLemmatizer()\n",
    "    tokens = [lemmatizer.lemmatize(w) for w in tokens]\n",
    "    \n",
    "    tokens = [w for w in tokens if len(w) >= 3]\n",
    "    \n",
    "    allowed_tags = {\"NN\", \"NNS\", \"NNP\", \"VB\", \"VBD\", \"VBG\", \"VBN\", \"VBP\", \"VBZ\", \"JJ\"}\n",
    "    pos_tags = pos_tag(tokens)\n",
    "    tokens = [word for word, tag in pos_tags if tag in allowed_tags]\n",
    "    \n",
    "    return tokens\n",
    "\n",
    "sample = \"The cat is sleeping on the mat.\"\n",
    "print(\"Original:\", sample)\n",
    "print(\"Processed:\", preprocess_text(sample))\n"
   ]
  },
  {
   "cell_type": "markdown",
   "id": "bb68c035",
   "metadata": {},
   "source": [
    "### 📝 Assignment 6: Reflection\n",
    "\n",
    "* Answer in 2–3 sentences:\n",
    "\n",
    "    * Why is context memory important in chatbots?\n",
    "    * Why should beginners always check **API limits and pricing**?\n",
    "\n",
    "Context memory allows chatbots to remember previous interactions. It helps the chatbot provide relevant responses based on previous chat with user, improving user experience and producing more accurate output.\n",
    "\n",
    "Beginners should check API limits and pricing to avoid unexpected charges and ensure their usage stays within free or affordable tiers. Without checking they might exceed usage limits and incur high fees."
   ]
  },
  {
   "cell_type": "markdown",
   "id": "4b787de4",
   "metadata": {},
   "source": [
    "---\n",
    "\n",
    "### **Hints:**\n",
    "\n",
    "1) Stemming:\n",
    "    - Cuts off word endings to get the “root.”\n",
    "    - Very mechanical → may produce non-real words.\n",
    "    - Example:\n",
    "        - \"studies\" → \"studi\"\n",
    "        - \"running\" → \"run\"\n",
    "\n",
    "2) Lemmatization:\n",
    "    - Smarter → uses vocabulary + grammar rules.\n",
    "    - Always gives a real word (the **lemma**).\n",
    "    - Example:\n",
    "        - \"studies\" → \"study\"\n",
    "        - \"running\" → \"run\"\n",
    "\n",
    "3) Part-of-Speech (POS) tagging means labeling each word in a sentence with its grammatical role — like **noun, verb, adjective, adverb, pronoun, etc.**\n",
    "\n",
    "    - Example:\n",
    "        - Sentence → *“The cat is sleeping on the mat.”*\n",
    "\n",
    "    - POS tags →\n",
    "        - The → Determiner (DT)\n",
    "        - cat → Noun (NN)\n",
    "        - is → Verb (VBZ)\n",
    "        - sleeping → Verb (VBG)\n",
    "        - on → Preposition (IN)\n",
    "        - the → Determiner (DT)\n",
    "        - mat → Noun (NN)\n",
    "\n",
    "    - **In short:** POS tagging helps machines understand **how words function in a sentence**, which is useful in NLP tasks like machine translation, text classification, and question answering.\n"
   ]
  },
  {
   "cell_type": "markdown",
   "id": "3cec98bb",
   "metadata": {},
   "source": [
    "---\n",
    "\n",
    "### ✅ Recap\n",
    "\n",
    "This week you learned:\n",
    "\n",
    "* **LLMs**: Types, uses, must-knows.\n",
    "* **STT & TTS**: How they connect with LLMs.\n",
    "* **APIs**: Connecting to LLMs with Groq.\n",
    "* Built your first chatbot foundation."
   ]
  }
 ],
 "metadata": {
  "kernelspec": {
   "display_name": "Python 3 (ipykernel)",
   "language": "python",
   "name": "python3"
  },
  "language_info": {
   "codemirror_mode": {
    "name": "ipython",
    "version": 3
   },
   "file_extension": ".py",
   "mimetype": "text/x-python",
   "name": "python",
   "nbconvert_exporter": "python",
   "pygments_lexer": "ipython3",
   "version": "3.13.7"
  }
 },
 "nbformat": 4,
 "nbformat_minor": 5
}
